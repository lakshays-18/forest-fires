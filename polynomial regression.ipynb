{
 "cells": [
  {
   "cell_type": "code",
   "execution_count": 1,
   "id": "c108aef4",
   "metadata": {},
   "outputs": [],
   "source": [
    "import pandas as pd\n",
    "import numpy as np\n",
    "import matplotlib.pyplot as plt\n",
    "import seaborn as sns"
   ]
  },
  {
   "cell_type": "code",
   "execution_count": 2,
   "id": "893b34b2",
   "metadata": {},
   "outputs": [
    {
     "data": {
      "text/plain": [
       "Text(0, 0.5, 'Y dataset')"
      ]
     },
     "execution_count": 2,
     "metadata": {},
     "output_type": "execute_result"
    },
    {
     "data": {
      "image/png": "[encoded data removed]",
      "text/plain": [
       "<Figure size 432x288 with 1 Axes>"
      ]
     },
     "metadata": {
      "needs_background": "light"
     },
     "output_type": "display_data"
    }
   ],
   "source": [
    "X = 6 * np.random.rand(100,1) - 3\n",
    "Y = 0.5 * X**2 + 1.5*X + 2 + np.random.rand(100,1) \n",
    "plt.scatter(X,Y)\n",
    "plt.xlabel('X dataset')\n",
    "plt.ylabel('Y dataset')\n",
    "\n"
   ]
  },
  {
   "cell_type": "code",
   "execution_count": 4,
   "id": "35830e82",
   "metadata": {},
   "outputs": [],
   "source": [
    "from sklearn.model_selection import train_test_split"
   ]
  },
  {
   "cell_type": "code",
   "execution_count": 5,
   "id": "ccbe028e",
   "metadata": {},
   "outputs": [],
   "source": [
    "X_train,X_test,y_train,y_test = train_test_split(X,Y,test_size=0.25,random_state=42)"
   ]
  },
  {
   "cell_type": "code",
   "execution_count": 6,
   "id": "dfc11ee9",
   "metadata": {},
   "outputs": [
    {
     "data": {
      "text/plain": [
       "array([[ 0.67031635],\n",
       "       [-2.70115589],\n",
       "       [-2.2429168 ],\n",
       "       [ 0.78297553],\n",
       "       [ 2.6734929 ],\n",
       "       [ 0.59059612],\n",
       "       [ 0.57211443],\n",
       "       [ 2.88909775],\n",
       "       [-2.58082434],\n",
       "       [-1.02998253],\n",
       "       [-1.13326557],\n",
       "       [-0.52367622],\n",
       "       [-0.98985386],\n",
       "       [ 1.56312423],\n",
       "       [-1.40017511],\n",
       "       [ 1.22587614],\n",
       "       [-0.478667  ],\n",
       "       [-2.45736383],\n",
       "       [ 2.51246849],\n",
       "       [-0.15600019],\n",
       "       [ 1.39489247],\n",
       "       [ 1.0177962 ],\n",
       "       [-2.27129905],\n",
       "       [ 2.98574555],\n",
       "       [-0.898018  ],\n",
       "       [-0.18264124],\n",
       "       [ 0.75866321],\n",
       "       [ 0.86463594],\n",
       "       [-0.82283555],\n",
       "       [-0.67710382],\n",
       "       [ 1.63291482],\n",
       "       [-1.76118484],\n",
       "       [ 1.87798203],\n",
       "       [-1.89786188],\n",
       "       [ 0.56780608],\n",
       "       [ 2.57044448],\n",
       "       [-1.44175443],\n",
       "       [ 0.49532187],\n",
       "       [-1.5171714 ],\n",
       "       [ 1.86167774],\n",
       "       [ 1.80626088],\n",
       "       [-2.14801219],\n",
       "       [ 2.6983946 ],\n",
       "       [ 1.08704679],\n",
       "       [ 0.90166851],\n",
       "       [-2.69725141],\n",
       "       [-2.57000066],\n",
       "       [ 0.57434078],\n",
       "       [-1.95975601],\n",
       "       [ 1.93711845],\n",
       "       [-0.87726622],\n",
       "       [-0.05321875],\n",
       "       [-1.82200252],\n",
       "       [ 1.37130465],\n",
       "       [-0.89541307],\n",
       "       [ 0.0534239 ],\n",
       "       [-0.63980008],\n",
       "       [ 0.09866498],\n",
       "       [-0.75361073],\n",
       "       [-2.47792077],\n",
       "       [ 1.47049727],\n",
       "       [-2.99123191],\n",
       "       [-1.50442229],\n",
       "       [ 2.76927309],\n",
       "       [ 1.07986003],\n",
       "       [ 2.15038841],\n",
       "       [-1.29369399],\n",
       "       [-0.95057479],\n",
       "       [ 0.60109294],\n",
       "       [-1.35810328],\n",
       "       [ 2.5736494 ],\n",
       "       [-2.33269186],\n",
       "       [ 1.04943049],\n",
       "       [-1.76109797],\n",
       "       [ 1.02749001]])"
      ]
     },
     "execution_count": 6,
     "metadata": {},
     "output_type": "execute_result"
    }
   ],
   "source": [
    "X_train"
   ]
  },
  {
   "cell_type": "code",
   "execution_count": 7,
   "id": "a29900cb",
   "metadata": {},
   "outputs": [],
   "source": [
    "from sklearn.linear_model import LinearRegression\n",
    "from sklearn.metrics import r2_score"
   ]
  },
  {
   "cell_type": "code",
   "execution_count": 8,
   "id": "7178d0d2",
   "metadata": {},
   "outputs": [],
   "source": [
    "regg = LinearRegression()"
   ]
  },
  {
   "cell_type": "code",
   "execution_count": 10,
   "id": "1c91f80d",
   "metadata": {},
   "outputs": [
    {
     "data": {
      "text/plain": [
       "LinearRegression()"
      ]
     },
     "execution_count": 10,
     "metadata": {},
     "output_type": "execute_result"
    }
   ],
   "source": [
    "regg.fit(X_train,y_train)"
   ]
  },
  {
   "cell_type": "code",
   "execution_count": 11,
   "id": "4d132566",
   "metadata": {},
   "outputs": [],
   "source": [
    "score = r2_score(y_test,regg.predict(X_test))"
   ]
  },
  {
   "cell_type": "code",
   "execution_count": 12,
   "id": "d3b22c39",
   "metadata": {},
   "outputs": [
    {
     "data": {
      "text/plain": [
       "0.8266720919552392"
      ]
     },
     "execution_count": 12,
     "metadata": {},
     "output_type": "execute_result"
    }
   ],
   "source": [
    "score"
   ]
  },
  {
   "cell_type": "markdown",
   "id": "34d3d661",
   "metadata": {},
   "source": [
    "## Visualizing the model"
   ]
  },
  {
   "cell_type": "code",
   "execution_count": 14,
   "id": "15dc6b88",
   "metadata": {},
   "outputs": [
    {
     "data": {
      "text/plain": [
       "Text(0, 0.5, 'Y dataset')"
      ]
     },
     "execution_count": 14,
     "metadata": {},
     "output_type": "execute_result"
    },
    {
     "data": {
      "image/png": "[encoded data removed]",
      "text/plain": [
       "<Figure size 432x288 with 1 Axes>"
      ]
     },
     "metadata": {
      "needs_background": "light"
     },
     "output_type": "display_data"
    }
   ],
   "source": [
    "plt.scatter(X_train,y_train)\n",
    "plt.plot(X_train,regg.predict(X_train),'r')\n",
    "plt.xlabel('X dataset')\n",
    "plt.ylabel('Y dataset')"
   ]
  },
  {
   "cell_type": "code",
   "execution_count": 15,
   "id": "56e1516e",
   "metadata": {},
   "outputs": [],
   "source": [
    "from sklearn.preprocessing import PolynomialFeatures"
   ]
  },
  {
   "cell_type": "code",
   "execution_count": 16,
   "id": "511ed06e",
   "metadata": {},
   "outputs": [],
   "source": [
    "poly = PolynomialFeatures(degree=2,include_bias=True)\n",
    "X_train_poly = poly.fit_transform(X_train)\n",
    "X_test_poly = poly.transform(X_test)"
   ]
  },
  {
   "cell_type": "code",
   "execution_count": 17,
   "id": "54312bd9",
   "metadata": {},
   "outputs": [
    {
     "data": {
      "text/plain": [
       "array([[ 1.00000000e+00,  6.70316351e-01,  4.49324011e-01],\n",
       "       [ 1.00000000e+00, -2.70115589e+00,  7.29624312e+00],\n",
       "       [ 1.00000000e+00, -2.24291680e+00,  5.03067576e+00],\n",
       "       [ 1.00000000e+00,  7.82975529e-01,  6.13050680e-01],\n",
       "       [ 1.00000000e+00,  2.67349290e+00,  7.14756429e+00],\n",
       "       [ 1.00000000e+00,  5.90596115e-01,  3.48803771e-01],\n",
       "       [ 1.00000000e+00,  5.72114432e-01,  3.27314923e-01],\n",
       "       [ 1.00000000e+00,  2.88909775e+00,  8.34688578e+00],\n",
       "       [ 1.00000000e+00, -2.58082434e+00,  6.66065428e+00],\n",
       "       [ 1.00000000e+00, -1.02998253e+00,  1.06086401e+00],\n",
       "       [ 1.00000000e+00, -1.13326557e+00,  1.28429086e+00],\n",
       "       [ 1.00000000e+00, -5.23676217e-01,  2.74236780e-01],\n",
       "       [ 1.00000000e+00, -9.89853860e-01,  9.79810665e-01],\n",
       "       [ 1.00000000e+00,  1.56312423e+00,  2.44335736e+00],\n",
       "       [ 1.00000000e+00, -1.40017511e+00,  1.96049033e+00],\n",
       "       [ 1.00000000e+00,  1.22587614e+00,  1.50277230e+00],\n",
       "       [ 1.00000000e+00, -4.78667004e-01,  2.29122101e-01],\n",
       "       [ 1.00000000e+00, -2.45736383e+00,  6.03863698e+00],\n",
       "       [ 1.00000000e+00,  2.51246849e+00,  6.31249793e+00],\n",
       "       [ 1.00000000e+00, -1.56000190e-01,  2.43360592e-02],\n",
       "       [ 1.00000000e+00,  1.39489247e+00,  1.94572502e+00],\n",
       "       [ 1.00000000e+00,  1.01779620e+00,  1.03590911e+00],\n",
       "       [ 1.00000000e+00, -2.27129905e+00,  5.15879938e+00],\n",
       "       [ 1.00000000e+00,  2.98574555e+00,  8.91467650e+00],\n",
       "       [ 1.00000000e+00, -8.98018004e-01,  8.06436336e-01],\n",
       "       [ 1.00000000e+00, -1.82641235e-01,  3.33578208e-02],\n",
       "       [ 1.00000000e+00,  7.58663207e-01,  5.75569862e-01],\n",
       "       [ 1.00000000e+00,  8.64635937e-01,  7.47595304e-01],\n",
       "       [ 1.00000000e+00, -8.22835551e-01,  6.77058343e-01],\n",
       "       [ 1.00000000e+00, -6.77103820e-01,  4.58469583e-01],\n",
       "       [ 1.00000000e+00,  1.63291482e+00,  2.66641081e+00],\n",
       "       [ 1.00000000e+00, -1.76118484e+00,  3.10177202e+00],\n",
       "       [ 1.00000000e+00,  1.87798203e+00,  3.52681650e+00],\n",
       "       [ 1.00000000e+00, -1.89786188e+00,  3.60187971e+00],\n",
       "       [ 1.00000000e+00,  5.67806075e-01,  3.22403739e-01],\n",
       "       [ 1.00000000e+00,  2.57044448e+00,  6.60718481e+00],\n",
       "       [ 1.00000000e+00, -1.44175443e+00,  2.07865583e+00],\n",
       "       [ 1.00000000e+00,  4.95321868e-01,  2.45343753e-01],\n",
       "       [ 1.00000000e+00, -1.51717140e+00,  2.30180906e+00],\n",
       "       [ 1.00000000e+00,  1.86167774e+00,  3.46584400e+00],\n",
       "       [ 1.00000000e+00,  1.80626088e+00,  3.26257836e+00],\n",
       "       [ 1.00000000e+00, -2.14801219e+00,  4.61395637e+00],\n",
       "       [ 1.00000000e+00,  2.69839460e+00,  7.28133343e+00],\n",
       "       [ 1.00000000e+00,  1.08704679e+00,  1.18167072e+00],\n",
       "       [ 1.00000000e+00,  9.01668513e-01,  8.13006107e-01],\n",
       "       [ 1.00000000e+00, -2.69725141e+00,  7.27516517e+00],\n",
       "       [ 1.00000000e+00, -2.57000066e+00,  6.60490339e+00],\n",
       "       [ 1.00000000e+00,  5.74340776e-01,  3.29867328e-01],\n",
       "       [ 1.00000000e+00, -1.95975601e+00,  3.84064362e+00],\n",
       "       [ 1.00000000e+00,  1.93711845e+00,  3.75242788e+00],\n",
       "       [ 1.00000000e+00, -8.77266225e-01,  7.69596029e-01],\n",
       "       [ 1.00000000e+00, -5.32187529e-02,  2.83223566e-03],\n",
       "       [ 1.00000000e+00, -1.82200252e+00,  3.31969319e+00],\n",
       "       [ 1.00000000e+00,  1.37130465e+00,  1.88047645e+00],\n",
       "       [ 1.00000000e+00, -8.95413071e-01,  8.01764568e-01],\n",
       "       [ 1.00000000e+00,  5.34239032e-02,  2.85411344e-03],\n",
       "       [ 1.00000000e+00, -6.39800081e-01,  4.09344143e-01],\n",
       "       [ 1.00000000e+00,  9.86649762e-02,  9.73477754e-03],\n",
       "       [ 1.00000000e+00, -7.53610729e-01,  5.67929131e-01],\n",
       "       [ 1.00000000e+00, -2.47792077e+00,  6.14009132e+00],\n",
       "       [ 1.00000000e+00,  1.47049727e+00,  2.16236222e+00],\n",
       "       [ 1.00000000e+00, -2.99123191e+00,  8.94746836e+00],\n",
       "       [ 1.00000000e+00, -1.50442229e+00,  2.26328643e+00],\n",
       "       [ 1.00000000e+00,  2.76927309e+00,  7.66887345e+00],\n",
       "       [ 1.00000000e+00,  1.07986003e+00,  1.16609768e+00],\n",
       "       [ 1.00000000e+00,  2.15038841e+00,  4.62417032e+00],\n",
       "       [ 1.00000000e+00, -1.29369399e+00,  1.67364413e+00],\n",
       "       [ 1.00000000e+00, -9.50574785e-01,  9.03592423e-01],\n",
       "       [ 1.00000000e+00,  6.01092941e-01,  3.61312723e-01],\n",
       "       [ 1.00000000e+00, -1.35810328e+00,  1.84444452e+00],\n",
       "       [ 1.00000000e+00,  2.57364940e+00,  6.62367122e+00],\n",
       "       [ 1.00000000e+00, -2.33269186e+00,  5.44145133e+00],\n",
       "       [ 1.00000000e+00,  1.04943049e+00,  1.10130436e+00],\n",
       "       [ 1.00000000e+00, -1.76109797e+00,  3.10146605e+00],\n",
       "       [ 1.00000000e+00,  1.02749001e+00,  1.05573572e+00]])"
      ]
     },
     "execution_count": 17,
     "metadata": {},
     "output_type": "execute_result"
    }
   ],
   "source": [
    "X_train_poly"
   ]
  },
  {
   "cell_type": "code",
   "execution_count": 18,
   "id": "2fb36208",
   "metadata": {},
   "outputs": [],
   "source": [
    "regg_new = LinearRegression()"
   ]
  },
  {
   "cell_type": "code",
   "execution_count": 19,
   "id": "78788f8e",
   "metadata": {},
   "outputs": [
    {
     "data": {
      "text/plain": [
       "LinearRegression()"
      ]
     },
     "execution_count": 19,
     "metadata": {},
     "output_type": "execute_result"
    }
   ],
   "source": [
    "regg_new.fit(X_train_poly,y_train)"
   ]
  },
  {
   "cell_type": "code",
   "execution_count": 20,
   "id": "7729efa6",
   "metadata": {},
   "outputs": [],
   "source": [
    "y_pred = regg_new.predict(X_test_poly)"
   ]
  },
  {
   "cell_type": "code",
   "execution_count": 21,
   "id": "fa5f032a",
   "metadata": {},
   "outputs": [
    {
     "data": {
      "text/plain": [
       "0.989928440487634"
      ]
     },
     "execution_count": 21,
     "metadata": {},
     "output_type": "execute_result"
    }
   ],
   "source": [
    "score_new = r2_score(y_test,y_pred)\n",
    "score_new"
   ]
  },
  {
   "cell_type": "code",
   "execution_count": 27,
   "id": "826f27f8",
   "metadata": {},
   "outputs": [
    {
     "data": {
      "text/plain": [
       "<matplotlib.collections.PathCollection at 0x2c6dda653d0>"
      ]
     },
     "execution_count": 27,
     "metadata": {},
     "output_type": "execute_result"
    },
    {
     "data": {
      "image/png": "[encoded data removed]",
      "text/plain": [
       "<Figure size 432x288 with 1 Axes>"
      ]
     },
     "metadata": {
      "needs_background": "light"
     },
     "output_type": "display_data"
    }
   ],
   "source": [
    "plt.scatter(X_train,regg_new.predict(X_train_poly))\n",
    "plt.scatter(X_train,y_train)"
   ]
  },
  {
   "cell_type": "code",
   "execution_count": 28,
   "id": "0709a7b5",
   "metadata": {},
   "outputs": [],
   "source": [
    "from sklearn.metrics import mean_squared_error,mean_absolute_error"
   ]
  },
  {
   "cell_type": "code",
   "execution_count": 30,
   "id": "b258e5be",
   "metadata": {},
   "outputs": [
    {
     "data": {
      "text/plain": [
       "0.0866664495932746"
      ]
     },
     "execution_count": 30,
     "metadata": {},
     "output_type": "execute_result"
    }
   ],
   "source": [
    "mse = mean_squared_error(y_test,y_pred)\n",
    "mse"
   ]
  },
  {
   "cell_type": "code",
   "execution_count": null,
   "id": "9b969458",
   "metadata": {},
   "outputs": [],
   "source": []
  }
 ],
 "metadata": {
  "kernelspec": {
   "display_name": "Python 3 (ipykernel)",
   "language": "python",
   "name": "python3"
  },
  "language_info": {
   "codemirror_mode": {
    "name": "ipython",
    "version": 3
   },
   "file_extension": ".py",
   "mimetype": "text/x-python",
   "name": "python",
   "nbconvert_exporter": "python",
   "pygments_lexer": "ipython3",
   "version": "3.9.12"
  }
 },
 "nbformat": 4,
 "nbformat_minor": 5
}
